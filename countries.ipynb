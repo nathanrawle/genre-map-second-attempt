{
 "cells": [
  {
   "cell_type": "code",
   "execution_count": 1,
   "metadata": {},
   "outputs": [],
   "source": [
    "import numpy as np\n",
    "import pandas as pd"
   ]
  },
  {
   "cell_type": "code",
   "execution_count": 2,
   "metadata": {},
   "outputs": [],
   "source": [
    "countries = pd.read_csv('src/geonames/countryInfo.txt',header=50,sep='\\t')"
   ]
  },
  {
   "cell_type": "code",
   "execution_count": 3,
   "metadata": {},
   "outputs": [],
   "source": [
    "countries = countries.rename({'#ISO':'ISO'},axis=1)"
   ]
  },
  {
   "cell_type": "code",
   "execution_count": 4,
   "metadata": {},
   "outputs": [
    {
     "name": "stdout",
     "output_type": "stream",
     "text": [
      "<class 'pandas.core.frame.DataFrame'>\n",
      "RangeIndex: 252 entries, 0 to 251\n",
      "Data columns (total 19 columns):\n",
      " #   Column              Non-Null Count  Dtype  \n",
      "---  ------              --------------  -----  \n",
      " 0   ISO                 251 non-null    object \n",
      " 1   ISO3                252 non-null    object \n",
      " 2   ISO-Numeric         252 non-null    int64  \n",
      " 3   fips                249 non-null    object \n",
      " 4   Country             252 non-null    object \n",
      " 5   Capital             246 non-null    object \n",
      " 6   Area(in sq km)      246 non-null    float64\n",
      " 7   Population          252 non-null    int64  \n",
      " 8   Continent           210 non-null    object \n",
      " 9   tld                 250 non-null    object \n",
      " 10  CurrencyCode        251 non-null    object \n",
      " 11  CurrencyName        251 non-null    object \n",
      " 12  Phone               247 non-null    object \n",
      " 13  Postal Code Format  149 non-null    object \n",
      " 14  Postal Code Regex   147 non-null    object \n",
      " 15  Languages           249 non-null    object \n",
      " 16  geonameid           250 non-null    float64\n",
      " 17  neighbours          166 non-null    object \n",
      " 18  EquivalentFipsCode  1 non-null      object \n",
      "dtypes: float64(2), int64(2), object(15)\n",
      "memory usage: 37.5+ KB\n"
     ]
    }
   ],
   "source": [
    "countries.info()"
   ]
  },
  {
   "cell_type": "code",
   "execution_count": 5,
   "metadata": {},
   "outputs": [],
   "source": [
    "country_alt_names = pd.read_csv('src/country_alt_names.csv')\n",
    "country_alt_names = country_alt_names.drop('Description',axis=1)"
   ]
  },
  {
   "cell_type": "code",
   "execution_count": 6,
   "metadata": {},
   "outputs": [
    {
     "name": "stdout",
     "output_type": "stream",
     "text": [
      "<class 'pandas.core.frame.DataFrame'>\n",
      "RangeIndex: 201 entries, 0 to 200\n",
      "Data columns (total 2 columns):\n",
      " #   Column                          Non-Null Count  Dtype \n",
      "---  ------                          --------------  ----- \n",
      " 0   Alpha-3 code                    198 non-null    object\n",
      " 1   Other name(s) or older name(s)  201 non-null    object\n",
      "dtypes: object(2)\n",
      "memory usage: 3.3+ KB\n"
     ]
    }
   ],
   "source": [
    "country_alt_names.info()"
   ]
  },
  {
   "cell_type": "code",
   "execution_count": 7,
   "metadata": {},
   "outputs": [],
   "source": [
    "country_alt_names = country_alt_names.rename({'Alpha-3 code':'ISO3',\n",
    "                                              'Other name(s) or older name(s)':'alternatenames'},\n",
    "                                             axis=1)"
   ]
  },
  {
   "cell_type": "code",
   "execution_count": 8,
   "metadata": {},
   "outputs": [],
   "source": [
    "# country_alt_names['country'] = country_alt_names['country'].str.replace(regex=True,\n",
    "#                                                                               pat='\\(.*?\\)',\n",
    "#                                                                               repl='').str.strip()\n",
    "\n",
    "country_alt_names['alternatenames'] = country_alt_names['alternatenames'].str.replace(regex=True,\n",
    "                                                                              pat='\\(.*?\\)',\n",
    "                                                                              repl='').str.strip()\n",
    "\n",
    "country_alt_names['alternatenames'] = country_alt_names['alternatenames'].str.replace(regex=True,\n",
    "                                                                              pat='\\\\n',\n",
    "                                                                              repl='')"
   ]
  },
  {
   "cell_type": "code",
   "execution_count": 9,
   "metadata": {},
   "outputs": [],
   "source": [
    "xkx_idx = country_alt_names[country_alt_names['alternatenames'].str.contains('Kosovo')].index\n",
    "country_alt_names['ISO3'].iloc[xkx_idx] = 'XKX'"
   ]
  },
  {
   "cell_type": "code",
   "execution_count": 10,
   "metadata": {},
   "outputs": [],
   "source": [
    "ctran_to_ctr = countries[['ISO3','Country']].merge(country_alt_names,\n",
    "                                                          on='ISO3').drop('ISO3',\n",
    "                                                                          axis=1)"
   ]
  },
  {
   "cell_type": "code",
   "execution_count": 11,
   "metadata": {},
   "outputs": [],
   "source": [
    "mask = ctran_to_ctr['alternatenames'].notna()\n",
    "ctran_to_ctr.loc[mask,\n",
    "                 'alternatenames'] = ctran_to_ctr.loc[mask,\n",
    "                                                      'alternatenames'].str.cat(ctran_to_ctr.loc[mask,\n",
    "                                                                                                 'Country'],\n",
    "                                                                                sep=',')"
   ]
  },
  {
   "cell_type": "code",
   "execution_count": 12,
   "metadata": {},
   "outputs": [],
   "source": [
    "ctran_to_ctr['alternatenames'] = ctran_to_ctr['alternatenames'].fillna(ctran_to_ctr['Country'])"
   ]
  },
  {
   "cell_type": "code",
   "execution_count": 13,
   "metadata": {},
   "outputs": [],
   "source": [
    "ctran_to_ctr['alternatenames'] = ctran_to_ctr['alternatenames'].str.replace('\\W$','')\n",
    "ctran_to_ctr['alternatenames'] = ctran_to_ctr['alternatenames'].str.split(',')\n",
    "ctran_to_ctr = ctran_to_ctr.explode('alternatenames')\n",
    "ctran_to_ctr['alternatenames'] = ctran_to_ctr['alternatenames'].str.strip()\n",
    "\n",
    "# ctran_to_ctr = ctran_to_ctr[ctran_mapto_stdname['altNames'] != ctran_to_ctr['Country']]"
   ]
  },
  {
   "cell_type": "code",
   "execution_count": 14,
   "metadata": {},
   "outputs": [],
   "source": [
    "\n",
    "ctran_to_ctr = ctran_to_ctr.dropna()\n",
    "# ctran_to_ctr = ctran_to_ctr.set_index('altNames',drop=True)['Country']"
   ]
  },
  {
   "cell_type": "code",
   "execution_count": 15,
   "metadata": {},
   "outputs": [],
   "source": [
    "# ctran_to_ctr = ctran_to_ctr.drop('Republic of the Congo',errors='ignore')\n",
    "ctran_to_ctr = ctran_to_ctr[ctran_to_ctr['Country']!='Republic of the Congo']"
   ]
  },
  {
   "cell_type": "code",
   "execution_count": 16,
   "metadata": {},
   "outputs": [],
   "source": [
    "# ctran_to_ctr = ctran_to_ctr.append(\n",
    "#     pd.Series(\n",
    "#         index=['Wales','Scotland','England','Northern Ireland'],\n",
    "#         data=['United Kingdom','United Kingdom','United Kingdom','United Kingdom']\n",
    "#     )\n",
    "# )"
   ]
  },
  {
   "cell_type": "code",
   "execution_count": 19,
   "metadata": {},
   "outputs": [],
   "source": [
    "ctran_to_ctr = ctran_to_ctr.append(\n",
    "    pd.DataFrame(\n",
    "        data=[('United Kingdom','Wales'),\n",
    "             ('United Kingdom','Scotland'),\n",
    "             ('United Kingdom','England'),\n",
    "             ('United Kingdom','Northern Ireland')],\n",
    "        columns=ctran_to_ctr.columns\n",
    "    ),\n",
    "    ignore_index=True\n",
    ")"
   ]
  },
  {
   "cell_type": "code",
   "execution_count": 21,
   "metadata": {},
   "outputs": [],
   "source": [
    "ctran_to_ctr = ctran_to_ctr.drop_duplicates('alternatenames')"
   ]
  },
  {
   "cell_type": "code",
   "execution_count": 23,
   "metadata": {},
   "outputs": [],
   "source": [
    "ctran_to_ctr.to_csv('geo/str_maps/ctran_to_ctr.csv',index=False)"
   ]
  },
  {
   "cell_type": "code",
   "execution_count": null,
   "metadata": {},
   "outputs": [],
   "source": []
  }
 ],
 "metadata": {
  "kernelspec": {
   "display_name": "Python 3",
   "language": "python",
   "name": "python3"
  },
  "language_info": {
   "codemirror_mode": {
    "name": "ipython",
    "version": 3
   },
   "file_extension": ".py",
   "mimetype": "text/x-python",
   "name": "python",
   "nbconvert_exporter": "python",
   "pygments_lexer": "ipython3",
   "version": "3.7.9"
  }
 },
 "nbformat": 4,
 "nbformat_minor": 4
}
