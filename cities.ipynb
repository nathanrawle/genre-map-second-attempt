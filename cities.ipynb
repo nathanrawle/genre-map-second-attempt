{
 "cells": [
  {
   "cell_type": "code",
   "execution_count": 1,
   "metadata": {},
   "outputs": [],
   "source": [
    "import numpy as np\n",
    "import pandas as pd"
   ]
  },
  {
   "cell_type": "code",
   "execution_count": 2,
   "metadata": {},
   "outputs": [],
   "source": [
    "# # copy the text between the triple-quotes to the clipboard\n",
    "# '''\n",
    "# geonameid         : integer id of record in geonames database\n",
    "# name              : name of geographical point (utf8) varchar(200)\n",
    "# asciiname         : name of geographical point in plain ascii characters, varchar(200)\n",
    "# alternatenames    : alternatenames, comma separated, ascii names automatically transliterated, convenience attribute from alternatename table, varchar(10000)\n",
    "# latitude          : latitude in decimal degrees (wgs84)\n",
    "# longitude         : longitude in decimal degrees (wgs84)\n",
    "# feature class     : see http://www.geonames.org/export/codes.html, char(1)\n",
    "# feature code      : see http://www.geonames.org/export/codes.html, varchar(10)\n",
    "# country code      : ISO-3166 2-letter country code, 2 characters\n",
    "# cc2               : alternate country codes, comma separated, ISO-3166 2-letter country code, 200 characters\n",
    "# admin1 code       : fipscode (subject to change to iso code), see exceptions below, see file admin1Codes.txt for display names of this code; varchar(20)\n",
    "# admin2 code       : code for the second administrative division, a county in the US, see file admin2Codes.txt; varchar(80) \n",
    "# admin3 code       : code for third level administrative division, varchar(20)\n",
    "# admin4 code       : code for fourth level administrative division, varchar(20)\n",
    "# population        : bigint (8 byte int) \n",
    "# elevation         : in meters, integer\n",
    "# dem               : digital elevation model, srtm3 or gtopo30, average elevation of 3''x3'' (ca 90mx90m) or 30''x30'' (ca 900mx900m) area in meters, integer. srtm processed by cgiar/ciat.\n",
    "# timezone          : the iana timezone id (see file timeZone.txt) varchar(40)\n",
    "# modification date : date of last modification in yyyy-MM-dd format\n",
    "# '''\n",
    "# gn_fields = pd.read_clipboard(sep=' : |\\n',header=None, names=['field','description'])\n",
    "# gn_fields.to_csv('src/geonames/main_table_descriptions.csv',index=False)"
   ]
  },
  {
   "cell_type": "code",
   "execution_count": 3,
   "metadata": {},
   "outputs": [
    {
     "data": {
      "text/html": [
       "<div>\n",
       "<style scoped>\n",
       "    .dataframe tbody tr th:only-of-type {\n",
       "        vertical-align: middle;\n",
       "    }\n",
       "\n",
       "    .dataframe tbody tr th {\n",
       "        vertical-align: top;\n",
       "    }\n",
       "\n",
       "    .dataframe thead th {\n",
       "        text-align: right;\n",
       "    }\n",
       "</style>\n",
       "<table border=\"1\" class=\"dataframe\">\n",
       "  <thead>\n",
       "    <tr style=\"text-align: right;\">\n",
       "      <th></th>\n",
       "      <th>field</th>\n",
       "      <th>description</th>\n",
       "    </tr>\n",
       "  </thead>\n",
       "  <tbody>\n",
       "    <tr>\n",
       "      <th>0</th>\n",
       "      <td>geonameid</td>\n",
       "      <td>integer id of record in geonames database</td>\n",
       "    </tr>\n",
       "    <tr>\n",
       "      <th>1</th>\n",
       "      <td>name</td>\n",
       "      <td>name of geographical point (utf8) varchar(200)</td>\n",
       "    </tr>\n",
       "    <tr>\n",
       "      <th>2</th>\n",
       "      <td>asciiname</td>\n",
       "      <td>name of geographical point in plain ascii char...</td>\n",
       "    </tr>\n",
       "    <tr>\n",
       "      <th>3</th>\n",
       "      <td>alternatenames</td>\n",
       "      <td>alternatenames, comma separated, ascii names a...</td>\n",
       "    </tr>\n",
       "    <tr>\n",
       "      <th>4</th>\n",
       "      <td>latitude</td>\n",
       "      <td>latitude in decimal degrees (wgs84)</td>\n",
       "    </tr>\n",
       "    <tr>\n",
       "      <th>5</th>\n",
       "      <td>longitude</td>\n",
       "      <td>longitude in decimal degrees (wgs84)</td>\n",
       "    </tr>\n",
       "    <tr>\n",
       "      <th>6</th>\n",
       "      <td>feature class</td>\n",
       "      <td>see http://www.geonames.org/export/codes.html,...</td>\n",
       "    </tr>\n",
       "    <tr>\n",
       "      <th>7</th>\n",
       "      <td>feature code</td>\n",
       "      <td>see http://www.geonames.org/export/codes.html,...</td>\n",
       "    </tr>\n",
       "    <tr>\n",
       "      <th>8</th>\n",
       "      <td>country code</td>\n",
       "      <td>ISO-3166 2-letter country code, 2 characters</td>\n",
       "    </tr>\n",
       "    <tr>\n",
       "      <th>9</th>\n",
       "      <td>cc2</td>\n",
       "      <td>alternate country codes, comma separated, ISO-...</td>\n",
       "    </tr>\n",
       "    <tr>\n",
       "      <th>10</th>\n",
       "      <td>admin1 code</td>\n",
       "      <td>fipscode (subject to change to iso code), see ...</td>\n",
       "    </tr>\n",
       "    <tr>\n",
       "      <th>11</th>\n",
       "      <td>admin2 code</td>\n",
       "      <td>code for the second administrative division, a...</td>\n",
       "    </tr>\n",
       "    <tr>\n",
       "      <th>12</th>\n",
       "      <td>admin3 code</td>\n",
       "      <td>code for third level administrative division, ...</td>\n",
       "    </tr>\n",
       "    <tr>\n",
       "      <th>13</th>\n",
       "      <td>admin4 code</td>\n",
       "      <td>code for fourth level administrative division,...</td>\n",
       "    </tr>\n",
       "    <tr>\n",
       "      <th>14</th>\n",
       "      <td>population</td>\n",
       "      <td>bigint (8 byte int)</td>\n",
       "    </tr>\n",
       "    <tr>\n",
       "      <th>15</th>\n",
       "      <td>elevation</td>\n",
       "      <td>in meters, integer</td>\n",
       "    </tr>\n",
       "    <tr>\n",
       "      <th>16</th>\n",
       "      <td>dem</td>\n",
       "      <td>digital elevation model, srtm3 or gtopo30, ave...</td>\n",
       "    </tr>\n",
       "    <tr>\n",
       "      <th>17</th>\n",
       "      <td>timezone</td>\n",
       "      <td>the iana timezone id (see file timeZone.txt) v...</td>\n",
       "    </tr>\n",
       "    <tr>\n",
       "      <th>18</th>\n",
       "      <td>modification date</td>\n",
       "      <td>date of last modification in yyyy-MM-dd format</td>\n",
       "    </tr>\n",
       "  </tbody>\n",
       "</table>\n",
       "</div>"
      ],
      "text/plain": [
       "                field                                        description\n",
       "0   geonameid                  integer id of record in geonames database\n",
       "1   name                  name of geographical point (utf8) varchar(200)\n",
       "2   asciiname          name of geographical point in plain ascii char...\n",
       "3   alternatenames     alternatenames, comma separated, ascii names a...\n",
       "4   latitude                         latitude in decimal degrees (wgs84)\n",
       "5   longitude                       longitude in decimal degrees (wgs84)\n",
       "6   feature class      see http://www.geonames.org/export/codes.html,...\n",
       "7   feature code       see http://www.geonames.org/export/codes.html,...\n",
       "8   country code            ISO-3166 2-letter country code, 2 characters\n",
       "9   cc2                alternate country codes, comma separated, ISO-...\n",
       "10  admin1 code        fipscode (subject to change to iso code), see ...\n",
       "11  admin2 code        code for the second administrative division, a...\n",
       "12  admin3 code        code for third level administrative division, ...\n",
       "13  admin4 code        code for fourth level administrative division,...\n",
       "14  population                                       bigint (8 byte int)\n",
       "15  elevation                                         in meters, integer\n",
       "16  dem                digital elevation model, srtm3 or gtopo30, ave...\n",
       "17  timezone           the iana timezone id (see file timeZone.txt) v...\n",
       "18  modification date     date of last modification in yyyy-MM-dd format"
      ]
     },
     "execution_count": 3,
     "metadata": {},
     "output_type": "execute_result"
    }
   ],
   "source": [
    "gn_fields = pd.read_csv('src/geonames/main_table_descriptions.csv')\n",
    "gn_fields"
   ]
  },
  {
   "cell_type": "code",
   "execution_count": 4,
   "metadata": {},
   "outputs": [],
   "source": [
    "cities_columns = pd.Index(gn_fields.iloc[:,0].str.strip().values)"
   ]
  },
  {
   "cell_type": "code",
   "execution_count": 5,
   "metadata": {},
   "outputs": [
    {
     "data": {
      "text/plain": [
       "Index(['geonameid', 'name', 'asciiname', 'alternatenames', 'latitude',\n",
       "       'longitude', 'feature class', 'feature code', 'country code', 'cc2',\n",
       "       'admin1 code', 'admin2 code', 'admin3 code', 'admin4 code',\n",
       "       'population', 'elevation', 'dem', 'timezone', 'modification date'],\n",
       "      dtype='object')"
      ]
     },
     "execution_count": 5,
     "metadata": {},
     "output_type": "execute_result"
    }
   ],
   "source": [
    "cities_columns"
   ]
  },
  {
   "cell_type": "code",
   "execution_count": 6,
   "metadata": {},
   "outputs": [],
   "source": [
    "geo_na = ['', '#N/A', '#N/A N/A', '#NA', '-1.#IND', '-1.#QNAN', '-NaN', '-nan',\n",
    "          '1.#IND', '1.#QNAN', '<NA>', 'N/A', 'NULL', 'NaN', 'n/a',\n",
    "          'nan', 'null']"
   ]
  },
  {
   "cell_type": "code",
   "execution_count": 7,
   "metadata": {},
   "outputs": [
    {
     "name": "stdout",
     "output_type": "stream",
     "text": [
      "<class 'pandas.core.frame.DataFrame'>\n",
      "RangeIndex: 197594 entries, 0 to 197593\n",
      "Data columns (total 19 columns):\n",
      " #   Column             Non-Null Count   Dtype  \n",
      "---  ------             --------------   -----  \n",
      " 0   geonameid          197594 non-null  int64  \n",
      " 1   name               197594 non-null  object \n",
      " 2   asciiname          197577 non-null  object \n",
      " 3   alternatenames     162255 non-null  object \n",
      " 4   latitude           197594 non-null  float64\n",
      " 5   longitude          197594 non-null  float64\n",
      " 6   feature class      197594 non-null  object \n",
      " 7   feature code       197593 non-null  object \n",
      " 8   country code       197594 non-null  object \n",
      " 9   cc2                6359 non-null    object \n",
      " 10  admin1 code        197564 non-null  object \n",
      " 11  admin2 code        167061 non-null  object \n",
      " 12  admin3 code        90112 non-null   object \n",
      " 13  admin4 code        32506 non-null   object \n",
      " 14  population         197594 non-null  int64  \n",
      " 15  elevation          33445 non-null   float64\n",
      " 16  dem                197594 non-null  int64  \n",
      " 17  timezone           197594 non-null  object \n",
      " 18  modification date  197594 non-null  object \n",
      "dtypes: float64(3), int64(3), object(13)\n",
      "memory usage: 28.6+ MB\n"
     ]
    }
   ],
   "source": [
    "cities = pd.read_csv('src/geonames/cities500.txt',\n",
    "                     sep='\\t',\n",
    "                     dtype={'admin1 code':str,\n",
    "                            'admin2 code':str,\n",
    "                            'admin3 code':str,\n",
    "                            'admin4 code':str,\n",
    "                            'population':int},\n",
    "                     header=0,\n",
    "                     names=cities_columns,\n",
    "                     na_values=geo_na,\n",
    "                     keep_default_na=False)\n",
    "cities.info()"
   ]
  },
  {
   "cell_type": "code",
   "execution_count": 8,
   "metadata": {},
   "outputs": [
    {
     "data": {
      "text/html": [
       "<div>\n",
       "<style scoped>\n",
       "    .dataframe tbody tr th:only-of-type {\n",
       "        vertical-align: middle;\n",
       "    }\n",
       "\n",
       "    .dataframe tbody tr th {\n",
       "        vertical-align: top;\n",
       "    }\n",
       "\n",
       "    .dataframe thead th {\n",
       "        text-align: right;\n",
       "    }\n",
       "</style>\n",
       "<table border=\"1\" class=\"dataframe\">\n",
       "  <thead>\n",
       "    <tr style=\"text-align: right;\">\n",
       "      <th></th>\n",
       "      <th>geonameid</th>\n",
       "      <th>name</th>\n",
       "      <th>asciiname</th>\n",
       "      <th>alternatenames</th>\n",
       "      <th>latitude</th>\n",
       "      <th>longitude</th>\n",
       "      <th>feature class</th>\n",
       "      <th>feature code</th>\n",
       "      <th>country code</th>\n",
       "      <th>cc2</th>\n",
       "      <th>admin1 code</th>\n",
       "      <th>admin2 code</th>\n",
       "      <th>admin3 code</th>\n",
       "      <th>admin4 code</th>\n",
       "      <th>population</th>\n",
       "      <th>elevation</th>\n",
       "      <th>dem</th>\n",
       "      <th>timezone</th>\n",
       "      <th>modification date</th>\n",
       "    </tr>\n",
       "  </thead>\n",
       "  <tbody>\n",
       "    <tr>\n",
       "      <th>0</th>\n",
       "      <td>3039154</td>\n",
       "      <td>El Tarter</td>\n",
       "      <td>El Tarter</td>\n",
       "      <td>Ehl Tarter,Эл Тартер</td>\n",
       "      <td>42.57952</td>\n",
       "      <td>1.65362</td>\n",
       "      <td>P</td>\n",
       "      <td>PPL</td>\n",
       "      <td>AD</td>\n",
       "      <td>NaN</td>\n",
       "      <td>02</td>\n",
       "      <td>NaN</td>\n",
       "      <td>NaN</td>\n",
       "      <td>NaN</td>\n",
       "      <td>1052</td>\n",
       "      <td>NaN</td>\n",
       "      <td>1721</td>\n",
       "      <td>Europe/Andorra</td>\n",
       "      <td>2012-11-03</td>\n",
       "    </tr>\n",
       "    <tr>\n",
       "      <th>1</th>\n",
       "      <td>3039163</td>\n",
       "      <td>Sant Julià de Lòria</td>\n",
       "      <td>Sant Julia de Loria</td>\n",
       "      <td>San Julia,San Julià,Sant Julia de Loria,Sant J...</td>\n",
       "      <td>42.46372</td>\n",
       "      <td>1.49129</td>\n",
       "      <td>P</td>\n",
       "      <td>PPLA</td>\n",
       "      <td>AD</td>\n",
       "      <td>NaN</td>\n",
       "      <td>06</td>\n",
       "      <td>NaN</td>\n",
       "      <td>NaN</td>\n",
       "      <td>NaN</td>\n",
       "      <td>8022</td>\n",
       "      <td>NaN</td>\n",
       "      <td>921</td>\n",
       "      <td>Europe/Andorra</td>\n",
       "      <td>2013-11-23</td>\n",
       "    </tr>\n",
       "    <tr>\n",
       "      <th>2</th>\n",
       "      <td>3039604</td>\n",
       "      <td>Pas de la Casa</td>\n",
       "      <td>Pas de la Casa</td>\n",
       "      <td>Pas de la Kasa,Пас де ла Каса</td>\n",
       "      <td>42.54277</td>\n",
       "      <td>1.73361</td>\n",
       "      <td>P</td>\n",
       "      <td>PPL</td>\n",
       "      <td>AD</td>\n",
       "      <td>NaN</td>\n",
       "      <td>03</td>\n",
       "      <td>NaN</td>\n",
       "      <td>NaN</td>\n",
       "      <td>NaN</td>\n",
       "      <td>2363</td>\n",
       "      <td>2050.0</td>\n",
       "      <td>2106</td>\n",
       "      <td>Europe/Andorra</td>\n",
       "      <td>2008-06-09</td>\n",
       "    </tr>\n",
       "    <tr>\n",
       "      <th>3</th>\n",
       "      <td>3039678</td>\n",
       "      <td>Ordino</td>\n",
       "      <td>Ordino</td>\n",
       "      <td>Ordino,ao er di nuo,orudino jiao qu,Ордино,オルデ...</td>\n",
       "      <td>42.55623</td>\n",
       "      <td>1.53319</td>\n",
       "      <td>P</td>\n",
       "      <td>PPLA</td>\n",
       "      <td>AD</td>\n",
       "      <td>NaN</td>\n",
       "      <td>05</td>\n",
       "      <td>NaN</td>\n",
       "      <td>NaN</td>\n",
       "      <td>NaN</td>\n",
       "      <td>3066</td>\n",
       "      <td>NaN</td>\n",
       "      <td>1296</td>\n",
       "      <td>Europe/Andorra</td>\n",
       "      <td>2018-10-26</td>\n",
       "    </tr>\n",
       "    <tr>\n",
       "      <th>4</th>\n",
       "      <td>3040051</td>\n",
       "      <td>les Escaldes</td>\n",
       "      <td>les Escaldes</td>\n",
       "      <td>Ehskal'des-Ehndzhordani,Escaldes,Escaldes-Engo...</td>\n",
       "      <td>42.50729</td>\n",
       "      <td>1.53414</td>\n",
       "      <td>P</td>\n",
       "      <td>PPLA</td>\n",
       "      <td>AD</td>\n",
       "      <td>NaN</td>\n",
       "      <td>08</td>\n",
       "      <td>NaN</td>\n",
       "      <td>NaN</td>\n",
       "      <td>NaN</td>\n",
       "      <td>15853</td>\n",
       "      <td>NaN</td>\n",
       "      <td>1033</td>\n",
       "      <td>Europe/Andorra</td>\n",
       "      <td>2008-10-15</td>\n",
       "    </tr>\n",
       "  </tbody>\n",
       "</table>\n",
       "</div>"
      ],
      "text/plain": [
       "   geonameid                 name            asciiname  \\\n",
       "0    3039154            El Tarter            El Tarter   \n",
       "1    3039163  Sant Julià de Lòria  Sant Julia de Loria   \n",
       "2    3039604       Pas de la Casa       Pas de la Casa   \n",
       "3    3039678               Ordino               Ordino   \n",
       "4    3040051         les Escaldes         les Escaldes   \n",
       "\n",
       "                                      alternatenames  latitude  longitude  \\\n",
       "0                               Ehl Tarter,Эл Тартер  42.57952    1.65362   \n",
       "1  San Julia,San Julià,Sant Julia de Loria,Sant J...  42.46372    1.49129   \n",
       "2                      Pas de la Kasa,Пас де ла Каса  42.54277    1.73361   \n",
       "3  Ordino,ao er di nuo,orudino jiao qu,Ордино,オルデ...  42.55623    1.53319   \n",
       "4  Ehskal'des-Ehndzhordani,Escaldes,Escaldes-Engo...  42.50729    1.53414   \n",
       "\n",
       "  feature class feature code country code  cc2 admin1 code admin2 code  \\\n",
       "0             P          PPL           AD  NaN          02         NaN   \n",
       "1             P         PPLA           AD  NaN          06         NaN   \n",
       "2             P          PPL           AD  NaN          03         NaN   \n",
       "3             P         PPLA           AD  NaN          05         NaN   \n",
       "4             P         PPLA           AD  NaN          08         NaN   \n",
       "\n",
       "  admin3 code admin4 code  population  elevation   dem        timezone  \\\n",
       "0         NaN         NaN        1052        NaN  1721  Europe/Andorra   \n",
       "1         NaN         NaN        8022        NaN   921  Europe/Andorra   \n",
       "2         NaN         NaN        2363     2050.0  2106  Europe/Andorra   \n",
       "3         NaN         NaN        3066        NaN  1296  Europe/Andorra   \n",
       "4         NaN         NaN       15853        NaN  1033  Europe/Andorra   \n",
       "\n",
       "  modification date  \n",
       "0        2012-11-03  \n",
       "1        2013-11-23  \n",
       "2        2008-06-09  \n",
       "3        2018-10-26  \n",
       "4        2008-10-15  "
      ]
     },
     "execution_count": 8,
     "metadata": {},
     "output_type": "execute_result"
    }
   ],
   "source": [
    "cities.head()"
   ]
  },
  {
   "cell_type": "code",
   "execution_count": 9,
   "metadata": {},
   "outputs": [],
   "source": [
    "cities = cities.drop(['geonameid',\n",
    "                      'feature class',\n",
    "                      'feature code',\n",
    "                      'admin3 code',\n",
    "                      'admin4 code',\n",
    "                      'elevation',\n",
    "                      'dem',\n",
    "                      'timezone',\n",
    "                      'modification date'],\n",
    "                     axis = 1)"
   ]
  },
  {
   "cell_type": "code",
   "execution_count": 10,
   "metadata": {},
   "outputs": [
    {
     "name": "stdout",
     "output_type": "stream",
     "text": [
      "<class 'pandas.core.frame.DataFrame'>\n",
      "RangeIndex: 197594 entries, 0 to 197593\n",
      "Data columns (total 10 columns):\n",
      " #   Column          Non-Null Count   Dtype  \n",
      "---  ------          --------------   -----  \n",
      " 0   name            197594 non-null  object \n",
      " 1   asciiname       197577 non-null  object \n",
      " 2   alternatenames  162255 non-null  object \n",
      " 3   latitude        197594 non-null  float64\n",
      " 4   longitude       197594 non-null  float64\n",
      " 5   country code    197594 non-null  object \n",
      " 6   cc2             6359 non-null    object \n",
      " 7   admin1 code     197564 non-null  object \n",
      " 8   admin2 code     167061 non-null  object \n",
      " 9   population      197594 non-null  int64  \n",
      "dtypes: float64(2), int64(1), object(7)\n",
      "memory usage: 15.1+ MB\n"
     ]
    }
   ],
   "source": [
    "cities.info()"
   ]
  },
  {
   "cell_type": "code",
   "execution_count": 11,
   "metadata": {},
   "outputs": [],
   "source": [
    "countries = pd.read_csv('src/geonames/countryInfo.txt', \n",
    "                        sep='\\t',\n",
    "                        header=50,\n",
    "                        na_values=geo_na,\n",
    "                        keep_default_na=False)\n",
    "countries = countries.rename(columns={'#ISO':'ISO'})"
   ]
  },
  {
   "cell_type": "code",
   "execution_count": 12,
   "metadata": {},
   "outputs": [],
   "source": [
    "iso_mapto_ctryname = countries[['ISO','Country']].set_index('ISO',drop=True)['Country']\n",
    "cities['country'] = cities['country code'].map(iso_mapto_ctryname, na_action='ignore')\n"
   ]
  },
  {
   "cell_type": "code",
   "execution_count": 13,
   "metadata": {},
   "outputs": [
    {
     "name": "stdout",
     "output_type": "stream",
     "text": [
      "<class 'pandas.core.frame.DataFrame'>\n",
      "RangeIndex: 197594 entries, 0 to 197593\n",
      "Data columns (total 11 columns):\n",
      " #   Column          Non-Null Count   Dtype  \n",
      "---  ------          --------------   -----  \n",
      " 0   name            197594 non-null  object \n",
      " 1   asciiname       197577 non-null  object \n",
      " 2   alternatenames  162255 non-null  object \n",
      " 3   latitude        197594 non-null  float64\n",
      " 4   longitude       197594 non-null  float64\n",
      " 5   country code    197594 non-null  object \n",
      " 6   cc2             6359 non-null    object \n",
      " 7   admin1 code     197564 non-null  object \n",
      " 8   admin2 code     167061 non-null  object \n",
      " 9   population      197594 non-null  int64  \n",
      " 10  country         197594 non-null  object \n",
      "dtypes: float64(2), int64(1), object(8)\n",
      "memory usage: 16.6+ MB\n"
     ]
    }
   ],
   "source": [
    "cities.info()"
   ]
  },
  {
   "cell_type": "code",
   "execution_count": 14,
   "metadata": {},
   "outputs": [],
   "source": [
    "a1_codes = pd.read_csv('src/geonames/admin1CodesASCII.txt',\n",
    "                       sep='\\t|\\n',\n",
    "                       engine='python',\n",
    "                       names=['code', 'name', 'name ascii', 'geonameid'])"
   ]
  },
  {
   "cell_type": "code",
   "execution_count": 15,
   "metadata": {},
   "outputs": [
    {
     "data": {
      "text/html": [
       "<div>\n",
       "<style scoped>\n",
       "    .dataframe tbody tr th:only-of-type {\n",
       "        vertical-align: middle;\n",
       "    }\n",
       "\n",
       "    .dataframe tbody tr th {\n",
       "        vertical-align: top;\n",
       "    }\n",
       "\n",
       "    .dataframe thead th {\n",
       "        text-align: right;\n",
       "    }\n",
       "</style>\n",
       "<table border=\"1\" class=\"dataframe\">\n",
       "  <thead>\n",
       "    <tr style=\"text-align: right;\">\n",
       "      <th></th>\n",
       "      <th>code</th>\n",
       "      <th>name</th>\n",
       "      <th>name ascii</th>\n",
       "      <th>geonameid</th>\n",
       "    </tr>\n",
       "  </thead>\n",
       "  <tbody>\n",
       "    <tr>\n",
       "      <th>0</th>\n",
       "      <td>AD.06</td>\n",
       "      <td>Sant Julià de Loria</td>\n",
       "      <td>Sant Julia de Loria</td>\n",
       "      <td>3039162</td>\n",
       "    </tr>\n",
       "    <tr>\n",
       "      <th>1</th>\n",
       "      <td>AD.05</td>\n",
       "      <td>Ordino</td>\n",
       "      <td>Ordino</td>\n",
       "      <td>3039676</td>\n",
       "    </tr>\n",
       "    <tr>\n",
       "      <th>2</th>\n",
       "      <td>AD.04</td>\n",
       "      <td>La Massana</td>\n",
       "      <td>La Massana</td>\n",
       "      <td>3040131</td>\n",
       "    </tr>\n",
       "    <tr>\n",
       "      <th>3</th>\n",
       "      <td>AD.03</td>\n",
       "      <td>Encamp</td>\n",
       "      <td>Encamp</td>\n",
       "      <td>3040684</td>\n",
       "    </tr>\n",
       "    <tr>\n",
       "      <th>4</th>\n",
       "      <td>AD.02</td>\n",
       "      <td>Canillo</td>\n",
       "      <td>Canillo</td>\n",
       "      <td>3041203</td>\n",
       "    </tr>\n",
       "  </tbody>\n",
       "</table>\n",
       "</div>"
      ],
      "text/plain": [
       "    code                 name           name ascii  geonameid\n",
       "0  AD.06  Sant Julià de Loria  Sant Julia de Loria    3039162\n",
       "1  AD.05               Ordino               Ordino    3039676\n",
       "2  AD.04           La Massana           La Massana    3040131\n",
       "3  AD.03               Encamp               Encamp    3040684\n",
       "4  AD.02              Canillo              Canillo    3041203"
      ]
     },
     "execution_count": 15,
     "metadata": {},
     "output_type": "execute_result"
    }
   ],
   "source": [
    "a1_codes.head()"
   ]
  },
  {
   "cell_type": "code",
   "execution_count": 16,
   "metadata": {},
   "outputs": [],
   "source": [
    "a2_codes = pd.read_csv('src/geonames/admin2Codes.txt',\n",
    "                       sep='\\t|\\n',\n",
    "                       engine='python',\n",
    "                       names=['concatenated codes', 'name', 'asciiname', 'geonameId'])"
   ]
  },
  {
   "cell_type": "code",
   "execution_count": 17,
   "metadata": {},
   "outputs": [
    {
     "data": {
      "text/html": [
       "<div>\n",
       "<style scoped>\n",
       "    .dataframe tbody tr th:only-of-type {\n",
       "        vertical-align: middle;\n",
       "    }\n",
       "\n",
       "    .dataframe tbody tr th {\n",
       "        vertical-align: top;\n",
       "    }\n",
       "\n",
       "    .dataframe thead th {\n",
       "        text-align: right;\n",
       "    }\n",
       "</style>\n",
       "<table border=\"1\" class=\"dataframe\">\n",
       "  <thead>\n",
       "    <tr style=\"text-align: right;\">\n",
       "      <th></th>\n",
       "      <th>concatenated codes</th>\n",
       "      <th>name</th>\n",
       "      <th>asciiname</th>\n",
       "      <th>geonameId</th>\n",
       "    </tr>\n",
       "  </thead>\n",
       "  <tbody>\n",
       "    <tr>\n",
       "      <th>0</th>\n",
       "      <td>AE.01.101</td>\n",
       "      <td>Abu Dhabi Municipality</td>\n",
       "      <td>Abu Dhabi Municipality</td>\n",
       "      <td>12047239</td>\n",
       "    </tr>\n",
       "    <tr>\n",
       "      <th>1</th>\n",
       "      <td>AE.01.102</td>\n",
       "      <td>Al Ain Municipality</td>\n",
       "      <td>Al Ain Municipality</td>\n",
       "      <td>12047240</td>\n",
       "    </tr>\n",
       "    <tr>\n",
       "      <th>2</th>\n",
       "      <td>AE.01.103</td>\n",
       "      <td>Al Dhafra</td>\n",
       "      <td>Al Dhafra</td>\n",
       "      <td>12047241</td>\n",
       "    </tr>\n",
       "    <tr>\n",
       "      <th>3</th>\n",
       "      <td>AE.04.701</td>\n",
       "      <td>Al Fujairah Municipality</td>\n",
       "      <td>Al Fujairah Municipality</td>\n",
       "      <td>12047242</td>\n",
       "    </tr>\n",
       "    <tr>\n",
       "      <th>4</th>\n",
       "      <td>AE.04.702</td>\n",
       "      <td>Dibba Al Fujairah Municipality</td>\n",
       "      <td>Dibba Al Fujairah Municipality</td>\n",
       "      <td>12047243</td>\n",
       "    </tr>\n",
       "  </tbody>\n",
       "</table>\n",
       "</div>"
      ],
      "text/plain": [
       "  concatenated codes                            name  \\\n",
       "0          AE.01.101          Abu Dhabi Municipality   \n",
       "1          AE.01.102             Al Ain Municipality   \n",
       "2          AE.01.103                       Al Dhafra   \n",
       "3          AE.04.701        Al Fujairah Municipality   \n",
       "4          AE.04.702  Dibba Al Fujairah Municipality   \n",
       "\n",
       "                        asciiname  geonameId  \n",
       "0          Abu Dhabi Municipality   12047239  \n",
       "1             Al Ain Municipality   12047240  \n",
       "2                       Al Dhafra   12047241  \n",
       "3        Al Fujairah Municipality   12047242  \n",
       "4  Dibba Al Fujairah Municipality   12047243  "
      ]
     },
     "execution_count": 17,
     "metadata": {},
     "output_type": "execute_result"
    }
   ],
   "source": [
    "a2_codes.head()"
   ]
  },
  {
   "cell_type": "code",
   "execution_count": 18,
   "metadata": {},
   "outputs": [],
   "source": [
    "a1_codes_split = a1_codes['code'].str.split('.',expand=True)\n",
    "a1_codes_split = a1_codes_split.join(a1_codes['name'])\n",
    "a1code_mapto_a1name = a1_codes_split.set_index([0,1])\n",
    "a1code_mapto_a1name = a1code_mapto_a1name['name'].rename('admin1')"
   ]
  },
  {
   "cell_type": "code",
   "execution_count": 19,
   "metadata": {},
   "outputs": [
    {
     "data": {
      "text/plain": [
       "0   1 \n",
       "AD  06    Sant Julià de Loria\n",
       "    05                 Ordino\n",
       "    04             La Massana\n",
       "    03                 Encamp\n",
       "    02                Canillo\n",
       "                 ...         \n",
       "ZW  04       Mashonaland East\n",
       "    03    Mashonaland Central\n",
       "    01             Manicaland\n",
       "    09               Bulawayo\n",
       "    10                 Harare\n",
       "Name: admin1, Length: 3871, dtype: object"
      ]
     },
     "execution_count": 19,
     "metadata": {},
     "output_type": "execute_result"
    }
   ],
   "source": [
    "a1code_mapto_a1name"
   ]
  },
  {
   "cell_type": "code",
   "execution_count": 20,
   "metadata": {},
   "outputs": [],
   "source": [
    "a2_codes_split = a2_codes['concatenated codes'].str.split('.',expand=True)\n",
    "a2_codes_split = a2_codes_split.join(a2_codes['name'])\n",
    "a2code_mapto_a2name = a2_codes_split.set_index([0,1,2])\n",
    "a2code_mapto_a2name = a2code_mapto_a2name['name'].rename('admin2')"
   ]
  },
  {
   "cell_type": "code",
   "execution_count": 21,
   "metadata": {},
   "outputs": [
    {
     "data": {
      "text/plain": [
       "0   1   2       \n",
       "AE  01  101                  Abu Dhabi Municipality\n",
       "        102                     Al Ain Municipality\n",
       "        103                               Al Dhafra\n",
       "    04  701                Al Fujairah Municipality\n",
       "        702          Dibba Al Fujairah Municipality\n",
       "                                 ...               \n",
       "ZW  07  10800403                  Bulilima District\n",
       "    05  10800410                    Zvimba District\n",
       "    04  10800411    Uzumba-Maramba-Pfungwe District\n",
       "    06  10800412                    Umguza District\n",
       "    01  11204515                 Mossurize District\n",
       "Name: admin2, Length: 45297, dtype: object"
      ]
     },
     "execution_count": 21,
     "metadata": {},
     "output_type": "execute_result"
    }
   ],
   "source": [
    "a2code_mapto_a2name"
   ]
  },
  {
   "cell_type": "code",
   "execution_count": 22,
   "metadata": {},
   "outputs": [],
   "source": [
    "cities = cities.join(a1code_mapto_a1name, on=['country code','admin1 code'])"
   ]
  },
  {
   "cell_type": "code",
   "execution_count": 23,
   "metadata": {},
   "outputs": [],
   "source": [
    "cities = cities.join(a2code_mapto_a2name, on=['country code','admin1 code','admin2 code'])"
   ]
  },
  {
   "cell_type": "code",
   "execution_count": 24,
   "metadata": {},
   "outputs": [],
   "source": [
    "cities = cities.drop(['cc2','admin1 code','admin2 code'],axis=1)"
   ]
  },
  {
   "cell_type": "code",
   "execution_count": 25,
   "metadata": {},
   "outputs": [
    {
     "name": "stdout",
     "output_type": "stream",
     "text": [
      "<class 'pandas.core.frame.DataFrame'>\n",
      "RangeIndex: 197594 entries, 0 to 197593\n",
      "Data columns (total 10 columns):\n",
      " #   Column          Non-Null Count   Dtype  \n",
      "---  ------          --------------   -----  \n",
      " 0   name            197594 non-null  object \n",
      " 1   asciiname       197577 non-null  object \n",
      " 2   alternatenames  162255 non-null  object \n",
      " 3   latitude        197594 non-null  float64\n",
      " 4   longitude       197594 non-null  float64\n",
      " 5   country code    197594 non-null  object \n",
      " 6   population      197594 non-null  int64  \n",
      " 7   country         197594 non-null  object \n",
      " 8   admin1          197413 non-null  object \n",
      " 9   admin2          159437 non-null  object \n",
      "dtypes: float64(2), int64(1), object(7)\n",
      "memory usage: 15.1+ MB\n"
     ]
    }
   ],
   "source": [
    "cities.info()"
   ]
  },
  {
   "cell_type": "code",
   "execution_count": 26,
   "metadata": {},
   "outputs": [],
   "source": [
    "cities.to_csv('geo/cities.csv',index=False)"
   ]
  },
  {
   "cell_type": "code",
   "execution_count": 27,
   "metadata": {},
   "outputs": [],
   "source": [
    "cities['alternatenames'] = cities['alternatenames'].fillna(cities['asciiname'])"
   ]
  },
  {
   "cell_type": "code",
   "execution_count": 28,
   "metadata": {},
   "outputs": [],
   "source": [
    "mask = cities['alternatenames'].notna()\n",
    "cities.loc[mask,'alternatenames'] = cities.loc[mask,'alternatenames'].str.cat(cities.loc[mask,'name'],sep=',')\n",
    "cities['alternatenames'] = cities['alternatenames'].fillna(cities['name'])"
   ]
  },
  {
   "cell_type": "code",
   "execution_count": null,
   "metadata": {},
   "outputs": [],
   "source": []
  },
  {
   "cell_type": "code",
   "execution_count": null,
   "metadata": {},
   "outputs": [],
   "source": []
  },
  {
   "cell_type": "code",
   "execution_count": 29,
   "metadata": {},
   "outputs": [],
   "source": [
    "ctyan_all_tiers = cities.sort_values('population',ascending=False)\n",
    "\n",
    "ctyan_all_tiers = ctyan_all_tiers[['alternatenames','admin2','admin1','country','name']].copy()\n",
    "\n",
    "ctyan_all_tiers['alternatenames'] = ctyan_all_tiers['alternatenames'].str.replace(', ','')\n",
    "\n",
    "ctyan_all_tiers['alternatenames'] = ctyan_all_tiers['alternatenames'].str.split(',')\n",
    "\n",
    "ctyan_all_tiers = ctyan_all_tiers.explode('alternatenames')\n",
    "\n",
    "ctyan_all_tiers['alternatenames'] = ctyan_all_tiers['alternatenames'].str.strip()"
   ]
  },
  {
   "cell_type": "code",
   "execution_count": 30,
   "metadata": {},
   "outputs": [
    {
     "data": {
      "text/html": [
       "<div>\n",
       "<style scoped>\n",
       "    .dataframe tbody tr th:only-of-type {\n",
       "        vertical-align: middle;\n",
       "    }\n",
       "\n",
       "    .dataframe tbody tr th {\n",
       "        vertical-align: top;\n",
       "    }\n",
       "\n",
       "    .dataframe thead th {\n",
       "        text-align: right;\n",
       "    }\n",
       "</style>\n",
       "<table border=\"1\" class=\"dataframe\">\n",
       "  <thead>\n",
       "    <tr style=\"text-align: right;\">\n",
       "      <th></th>\n",
       "      <th>alternatenames</th>\n",
       "      <th>admin2</th>\n",
       "      <th>admin1</th>\n",
       "      <th>country</th>\n",
       "      <th>name</th>\n",
       "    </tr>\n",
       "  </thead>\n",
       "  <tbody>\n",
       "    <tr>\n",
       "      <th>187798</th>\n",
       "      <td>New York</td>\n",
       "      <td>NaN</td>\n",
       "      <td>New York</td>\n",
       "      <td>United States</td>\n",
       "      <td>New York City</td>\n",
       "    </tr>\n",
       "    <tr>\n",
       "      <th>186460</th>\n",
       "      <td>New York</td>\n",
       "      <td>York County</td>\n",
       "      <td>Nebraska</td>\n",
       "      <td>United States</td>\n",
       "      <td>York</td>\n",
       "    </tr>\n",
       "    <tr>\n",
       "      <th>190315</th>\n",
       "      <td>New York</td>\n",
       "      <td>Rock County</td>\n",
       "      <td>Wisconsin</td>\n",
       "      <td>United States</td>\n",
       "      <td>Clinton</td>\n",
       "    </tr>\n",
       "  </tbody>\n",
       "</table>\n",
       "</div>"
      ],
      "text/plain": [
       "       alternatenames       admin2     admin1        country           name\n",
       "187798       New York          NaN   New York  United States  New York City\n",
       "186460       New York  York County   Nebraska  United States           York\n",
       "190315       New York  Rock County  Wisconsin  United States        Clinton"
      ]
     },
     "execution_count": 30,
     "metadata": {},
     "output_type": "execute_result"
    }
   ],
   "source": [
    "ctyan_all_tiers[ctyan_all_tiers['alternatenames']=='New York']"
   ]
  },
  {
   "cell_type": "code",
   "execution_count": null,
   "metadata": {},
   "outputs": [],
   "source": []
  },
  {
   "cell_type": "code",
   "execution_count": null,
   "metadata": {},
   "outputs": [],
   "source": []
  },
  {
   "cell_type": "code",
   "execution_count": null,
   "metadata": {},
   "outputs": [],
   "source": []
  },
  {
   "cell_type": "code",
   "execution_count": null,
   "metadata": {},
   "outputs": [],
   "source": []
  },
  {
   "cell_type": "code",
   "execution_count": 31,
   "metadata": {},
   "outputs": [],
   "source": [
    "ctyan_a2_to_cty = ctyan_all_tiers[['alternatenames','admin2','name']]\n",
    "ctyan_a2_to_cty = ctyan_a2_to_cty.drop_duplicates(['alternatenames','admin2'])\n",
    "ctyan_a2_to_cty = ctyan_a2_to_cty.dropna()\n",
    "ctyan_a2_to_cty = ctyan_a2_to_cty.reset_index(drop=True)"
   ]
  },
  {
   "cell_type": "code",
   "execution_count": 32,
   "metadata": {},
   "outputs": [],
   "source": [
    "ctyan_a2_to_cty.to_csv('geo/str_maps/ctyan_a2_to_cty.csv',index=False)"
   ]
  },
  {
   "cell_type": "code",
   "execution_count": null,
   "metadata": {},
   "outputs": [],
   "source": []
  },
  {
   "cell_type": "code",
   "execution_count": 33,
   "metadata": {},
   "outputs": [],
   "source": [
    "ctyan_a1_to_cty = ctyan_all_tiers[['alternatenames','admin1','name']]\n",
    "\n",
    "ctyan_a1_to_cty = ctyan_a1_to_cty.drop_duplicates(['alternatenames','admin1'])\n",
    "ctyan_a1_to_cty = ctyan_a1_to_cty.dropna()\n",
    "ctyan_a1_to_cty = ctyan_a1_to_cty.reset_index(drop=True)"
   ]
  },
  {
   "cell_type": "code",
   "execution_count": 34,
   "metadata": {},
   "outputs": [],
   "source": [
    "ctyan_a1_to_cty.to_csv('geo/str_maps/ctyan_a1_to_cty.csv',index=False)"
   ]
  },
  {
   "cell_type": "code",
   "execution_count": null,
   "metadata": {},
   "outputs": [],
   "source": []
  },
  {
   "cell_type": "code",
   "execution_count": 35,
   "metadata": {},
   "outputs": [],
   "source": [
    "ctyan_ctr_to_cty = ctyan_all_tiers[['alternatenames','country','name']]\n",
    "\n",
    "ctyan_ctr_to_cty = ctyan_ctr_to_cty.drop_duplicates(['alternatenames','country'])\n",
    "ctyan_ctr_to_cty = ctyan_ctr_to_cty.dropna()\n",
    "ctyan_ctr_to_cty = ctyan_ctr_to_cty.reset_index(drop=True)"
   ]
  },
  {
   "cell_type": "code",
   "execution_count": 36,
   "metadata": {},
   "outputs": [],
   "source": [
    "ctyan_ctr_to_cty.to_csv('geo/str_maps/ctyan_ctr_to_cty.csv',index=False)"
   ]
  },
  {
   "cell_type": "code",
   "execution_count": null,
   "metadata": {},
   "outputs": [],
   "source": []
  },
  {
   "cell_type": "code",
   "execution_count": null,
   "metadata": {},
   "outputs": [],
   "source": []
  },
  {
   "cell_type": "code",
   "execution_count": 37,
   "metadata": {},
   "outputs": [],
   "source": [
    "# cty_to_a2\n",
    "\n",
    "nunique = cities.groupby('name')['admin2'].nunique()\n",
    "\n",
    "singletons = nunique[nunique==1].index\n",
    "\n",
    "mask = cities['name'].isin(singletons)\n",
    "\n",
    "cty_to_a2 = cities[mask][['name','admin2']].dropna()\n",
    "\n",
    "cty_to_a2 = cty_to_a2.drop_duplicates().reset_index(drop=True)\n",
    "\n",
    "cty_to_a2.to_csv('geo/str_maps/cty_to_a2.csv',index=False)"
   ]
  },
  {
   "cell_type": "code",
   "execution_count": null,
   "metadata": {},
   "outputs": [],
   "source": []
  },
  {
   "cell_type": "code",
   "execution_count": 38,
   "metadata": {},
   "outputs": [],
   "source": [
    "columns = ['name','admin1','admin2']\n",
    "\n",
    "nunique = cities.groupby(columns[:2])[columns[2]].nunique()\n",
    "\n",
    "singletons = nunique[nunique==1].reset_index()\n",
    "singletons = singletons[columns[0]].str.cat(singletons[columns[1]],sep=', ')\n",
    "\n",
    "mask = cities[columns[0]].str.cat(cities[columns[1]],sep=', ').isin(singletons.values)\n",
    "\n",
    "cty_a1_to_a2 = cities[mask][columns].dropna()\n",
    "\n",
    "cty_a1_to_a2 = cty_a1_to_a2.drop_duplicates().reset_index(drop=True)\n",
    "\n",
    "cty_a1_to_a2.to_csv('geo/str_maps/cty_a1_to_a2.csv',index=False)"
   ]
  },
  {
   "cell_type": "code",
   "execution_count": null,
   "metadata": {},
   "outputs": [],
   "source": []
  },
  {
   "cell_type": "code",
   "execution_count": 39,
   "metadata": {},
   "outputs": [],
   "source": [
    "columns = ['name','country','admin2']\n",
    "\n",
    "nunique = cities.groupby(columns[:2])[columns[2]].nunique()\n",
    "\n",
    "singletons = nunique[nunique==1].reset_index()\n",
    "singletons = singletons[columns[0]].str.cat(singletons[columns[1]],sep=', ')\n",
    "\n",
    "mask = cities[columns[0]].str.cat(cities[columns[1]],sep=', ').isin(singletons.values)\n",
    "\n",
    "cty_ctr_to_a2 = cities[mask][columns].dropna()\n",
    "\n",
    "cty_ctr_to_a2 = cty_ctr_to_a2.drop_duplicates().reset_index(drop=True)\n",
    "\n",
    "cty_ctr_to_a2.to_csv('geo/str_maps/cty_ctr_to_a2.csv',index=False)"
   ]
  },
  {
   "cell_type": "code",
   "execution_count": null,
   "metadata": {},
   "outputs": [],
   "source": []
  },
  {
   "cell_type": "code",
   "execution_count": 40,
   "metadata": {},
   "outputs": [],
   "source": [
    "columns = ['name','admin1','country','admin2']\n",
    "\n",
    "nunique = cities.groupby(columns[:3])[columns[3]].nunique()\n",
    "\n",
    "singletons = nunique[nunique==1].reset_index()\n",
    "singletons = singletons[columns[0]].str.cat(singletons[columns[1]],sep=', ').str.cat(singletons[columns[2]],sep=', ')\n",
    "\n",
    "mask = cities[columns[0]].str.cat(cities[columns[1]],sep=', ').str.cat(cities[columns[2]],sep=', ')\n",
    "mask = mask.isin(singletons.values)\n",
    "\n",
    "cty_a1_ctr_to_a2 = cities[mask][columns].dropna()\n",
    "\n",
    "cty_a1_ctr_to_a2 = cty_a1_ctr_to_a2.drop_duplicates().reset_index(drop=True)\n",
    "\n",
    "cty_a1_ctr_to_a2.to_csv('geo/str_maps/cty_a1_ctr_to_a2.csv',index=False)"
   ]
  },
  {
   "cell_type": "code",
   "execution_count": null,
   "metadata": {},
   "outputs": [],
   "source": []
  },
  {
   "cell_type": "code",
   "execution_count": null,
   "metadata": {},
   "outputs": [],
   "source": []
  },
  {
   "cell_type": "code",
   "execution_count": 41,
   "metadata": {},
   "outputs": [],
   "source": [
    "a2_to_a1 = cities.groupby('admin2')['admin1'].nunique()[(cities.groupby('admin2')['admin1'].nunique()==1)].index\n",
    "\n",
    "a2_to_a1 = cities[cities['admin2'].isin(a2_to_a1)][['admin2','admin1']].dropna()\n",
    "\n",
    "a2_to_a1 = a2_to_a1.drop_duplicates().reset_index(drop=True)\n",
    "\n",
    "a2_to_a1.to_csv('geo/str_maps/a2_to_a1.csv',index=False)"
   ]
  },
  {
   "cell_type": "code",
   "execution_count": null,
   "metadata": {},
   "outputs": [],
   "source": []
  },
  {
   "cell_type": "code",
   "execution_count": null,
   "metadata": {},
   "outputs": [],
   "source": []
  },
  {
   "cell_type": "code",
   "execution_count": 42,
   "metadata": {},
   "outputs": [],
   "source": [
    "cty_to_a1 = cities.groupby('name')['admin1'].nunique()[(cities.groupby('name')['admin1'].nunique()==1)].index\n",
    "\n",
    "cty_to_a1 = cities[cities['name'].isin(cty_to_a1)][['name','admin1']].dropna()\n",
    "\n",
    "cty_to_a1 = cty_to_a1.drop_duplicates().reset_index(drop=True)\n",
    "\n",
    "cty_to_a1.to_csv('geo/str_maps/cty_to_a1.csv',index=False)"
   ]
  },
  {
   "cell_type": "code",
   "execution_count": null,
   "metadata": {},
   "outputs": [],
   "source": []
  },
  {
   "cell_type": "code",
   "execution_count": 43,
   "metadata": {},
   "outputs": [],
   "source": [
    "columns = ['name','admin2','admin1']\n",
    "\n",
    "nunique = cities.groupby(columns[:2])[columns[2]].nunique()\n",
    "\n",
    "singletons = nunique[nunique==1].reset_index()\n",
    "singletons = singletons[columns[0]].str.cat(singletons[columns[1]],sep=', ')\n",
    "\n",
    "mask = cities[columns[0]].str.cat(cities[columns[1]],sep=', ').isin(singletons.values)\n",
    "\n",
    "cty_a2_to_a1 = cities[mask][columns].dropna()\n",
    "\n",
    "cty_a2_to_a1 = cty_a2_to_a1.drop_duplicates().reset_index(drop=True)\n",
    "\n",
    "cty_a2_to_a1.to_csv('geo/str_maps/cty_a2_to_a1.csv',index=False)"
   ]
  },
  {
   "cell_type": "code",
   "execution_count": null,
   "metadata": {},
   "outputs": [],
   "source": []
  },
  {
   "cell_type": "code",
   "execution_count": 44,
   "metadata": {},
   "outputs": [],
   "source": [
    "columns = ['name','country','admin1']\n",
    "\n",
    "nunique = cities.groupby(columns[:2])[columns[2]].nunique()\n",
    "\n",
    "singletons = nunique[nunique==1].reset_index()\n",
    "singletons = singletons[columns[0]].str.cat(singletons[columns[1]],sep=', ')\n",
    "\n",
    "mask = cities[columns[0]].str.cat(cities[columns[1]],sep=', ').isin(singletons.values)\n",
    "\n",
    "cty_ctr_to_a1 = cities[mask][columns].dropna()\n",
    "\n",
    "cty_ctr_to_a1 = cty_ctr_to_a1.drop_duplicates().reset_index(drop=True)\n",
    "\n",
    "cty_ctr_to_a1.to_csv('geo/str_maps/cty_ctr_to_a1.csv',index=False)"
   ]
  },
  {
   "cell_type": "code",
   "execution_count": null,
   "metadata": {},
   "outputs": [],
   "source": []
  },
  {
   "cell_type": "code",
   "execution_count": 45,
   "metadata": {},
   "outputs": [],
   "source": [
    "columns = ['admin2','country','admin1']\n",
    "\n",
    "nunique = cities.groupby(columns[:2])[columns[2]].nunique()\n",
    "\n",
    "singletons = nunique[nunique==1].reset_index()\n",
    "singletons = singletons[columns[0]].str.cat(singletons[columns[1]],sep=', ')\n",
    "\n",
    "mask = cities[columns[0]].str.cat(cities[columns[1]],sep=', ').isin(singletons.values)\n",
    "\n",
    "a2_ctr_to_a1 = cities[mask][columns].dropna()\n",
    "\n",
    "a2_ctr_to_a1 = a2_ctr_to_a1.drop_duplicates().reset_index(drop=True)\n",
    "\n",
    "a2_ctr_to_a1.to_csv('geo/str_maps/a2_ctr_to_a1.csv',index=False)"
   ]
  },
  {
   "cell_type": "code",
   "execution_count": null,
   "metadata": {},
   "outputs": [],
   "source": []
  },
  {
   "cell_type": "code",
   "execution_count": 46,
   "metadata": {},
   "outputs": [],
   "source": [
    "columns = ['name','admin2','country','admin1']\n",
    "\n",
    "nunique = cities.groupby(columns[:3])[columns[3]].nunique()\n",
    "\n",
    "singletons = nunique[nunique==1].reset_index()\n",
    "singletons = singletons[columns[0]].str.cat(singletons[columns[1]],sep=', ').str.cat(singletons[columns[2]],sep=', ')\n",
    "\n",
    "mask = cities[columns[0]].str.cat(cities[columns[1]],sep=', ').str.cat(cities[columns[2]],sep=', ')\n",
    "mask = mask.isin(singletons.values)\n",
    "\n",
    "cty_a2_ctr_to_a1 = cities[mask][columns].dropna()\n",
    "\n",
    "cty_a2_ctr_to_a1 = cty_a2_ctr_to_a1.drop_duplicates().reset_index(drop=True)\n",
    "\n",
    "cty_a2_ctr_to_a1.to_csv('geo/str_maps/cty_a2_ctr_to_a1.csv',index=False)"
   ]
  },
  {
   "cell_type": "code",
   "execution_count": null,
   "metadata": {},
   "outputs": [],
   "source": []
  },
  {
   "cell_type": "code",
   "execution_count": null,
   "metadata": {},
   "outputs": [],
   "source": []
  },
  {
   "cell_type": "code",
   "execution_count": 47,
   "metadata": {},
   "outputs": [],
   "source": [
    "a1_to_ctr = cities.groupby('admin1')['country'].nunique()[(cities.groupby('admin1')['country'].nunique()==1)].index\n",
    "\n",
    "a1_to_ctr = cities[cities['admin1'].isin(a1_to_ctr)][['admin1','country']].dropna()\n",
    "\n",
    "a1_to_ctr = a1_to_ctr.drop_duplicates().reset_index(drop=True)\n",
    "\n",
    "a1_to_ctr.to_csv('geo/str_maps/a1_to_ctr.csv',index=False)"
   ]
  },
  {
   "cell_type": "code",
   "execution_count": null,
   "metadata": {},
   "outputs": [],
   "source": []
  },
  {
   "cell_type": "code",
   "execution_count": 48,
   "metadata": {},
   "outputs": [],
   "source": [
    "a2_to_ctr = cities.groupby('admin2')['country'].nunique()[(cities.groupby('admin2')['country'].nunique()==1)].index\n",
    "\n",
    "a2_to_ctr = cities[cities['admin2'].isin(a2_to_ctr)][['admin2','country']].dropna()\n",
    "\n",
    "a2_to_ctr = a2_to_ctr.drop_duplicates().reset_index(drop=True)\n",
    "\n",
    "a2_to_ctr.to_csv('geo/str_maps/a2_to_ctr.csv',index=False)"
   ]
  },
  {
   "cell_type": "code",
   "execution_count": null,
   "metadata": {},
   "outputs": [],
   "source": []
  },
  {
   "cell_type": "code",
   "execution_count": 49,
   "metadata": {},
   "outputs": [],
   "source": [
    "cty_to_ctr = cities.groupby('name')['country'].nunique()[(cities.groupby('name')['country'].nunique()==1)].index\n",
    "\n",
    "cty_to_ctr = cities[cities['name'].isin(cty_to_ctr)][['name','country']].dropna()\n",
    "\n",
    "cty_to_ctr = cty_to_ctr.drop_duplicates().reset_index(drop=True)\n",
    "\n",
    "cty_to_ctr.to_csv('geo/str_maps/cty_to_ctr.csv',index=False)"
   ]
  },
  {
   "cell_type": "code",
   "execution_count": null,
   "metadata": {},
   "outputs": [],
   "source": []
  },
  {
   "cell_type": "code",
   "execution_count": 50,
   "metadata": {},
   "outputs": [],
   "source": [
    "columns = ['admin2','admin1','country']\n",
    "\n",
    "nunique = cities.groupby(columns[:2])[columns[2]].nunique()\n",
    "\n",
    "singletons = nunique[nunique==1].reset_index()\n",
    "singletons = singletons[columns[0]].str.cat(singletons[columns[1]],sep=', ')\n",
    "\n",
    "mask = cities[columns[0]].str.cat(cities[columns[1]],sep=', ').isin(singletons.values)\n",
    "\n",
    "a2_a1_to_ctr = cities[mask][columns].dropna()\n",
    "\n",
    "a2_a1_to_ctr = a2_a1_to_ctr.drop_duplicates().reset_index(drop=True)\n",
    "\n",
    "a2_a1_to_ctr.to_csv('geo/str_maps/a2_a1_to_ctr.csv',index=False)"
   ]
  },
  {
   "cell_type": "code",
   "execution_count": null,
   "metadata": {},
   "outputs": [],
   "source": []
  },
  {
   "cell_type": "code",
   "execution_count": 51,
   "metadata": {},
   "outputs": [],
   "source": [
    "columns = ['name','admin1','country']\n",
    "\n",
    "nunique = cities.groupby(columns[:2])[columns[2]].nunique()\n",
    "\n",
    "singletons = nunique[nunique==1].reset_index()\n",
    "singletons = singletons[columns[0]].str.cat(singletons[columns[1]],sep=', ')\n",
    "\n",
    "mask = cities[columns[0]].str.cat(cities[columns[1]],sep=', ').isin(singletons.values)\n",
    "\n",
    "cty_a1_to_ctr = cities[mask][columns].dropna()\n",
    "\n",
    "cty_a1_to_ctr = cty_a1_to_ctr.drop_duplicates().reset_index(drop=True)\n",
    "\n",
    "cty_a1_to_ctr.to_csv('geo/str_maps/cty_a1_to_ctr.csv',index=False)"
   ]
  },
  {
   "cell_type": "code",
   "execution_count": null,
   "metadata": {},
   "outputs": [],
   "source": []
  },
  {
   "cell_type": "code",
   "execution_count": 52,
   "metadata": {},
   "outputs": [],
   "source": [
    "columns = ['name','admin2','country']\n",
    "\n",
    "nunique = cities.groupby(columns[:2])[columns[2]].nunique()\n",
    "\n",
    "singletons = nunique[nunique==1].reset_index()\n",
    "singletons = singletons[columns[0]].str.cat(singletons[columns[1]],sep=', ')\n",
    "\n",
    "mask = cities[columns[0]].str.cat(cities[columns[1]],sep=', ').isin(singletons.values)\n",
    "\n",
    "cty_a2_to_ctr = cities[mask][columns].dropna()\n",
    "\n",
    "cty_a2_to_ctr = cty_a2_to_ctr.drop_duplicates().reset_index(drop=True)\n",
    "\n",
    "cty_a2_to_ctr.to_csv('geo/str_maps/cty_a2_to_ctr.csv',index=False)"
   ]
  },
  {
   "cell_type": "code",
   "execution_count": null,
   "metadata": {},
   "outputs": [],
   "source": []
  },
  {
   "cell_type": "code",
   "execution_count": 53,
   "metadata": {},
   "outputs": [],
   "source": [
    "columns = ['name','admin2','admin1','country']\n",
    "\n",
    "nunique = cities.groupby(columns[:3])[columns[3]].nunique()\n",
    "\n",
    "singletons = nunique[nunique==1].reset_index()\n",
    "singletons = singletons[columns[0]].str.cat(singletons[columns[1]],sep=', ').str.cat(singletons[columns[2]],sep=', ')\n",
    "\n",
    "mask = cities[columns[0]].str.cat(cities[columns[1]],sep=', ').str.cat(cities[columns[2]],sep=', ')\n",
    "mask = mask.isin(singletons.values)\n",
    "\n",
    "cty_a2_a1_to_ctr = cities[mask][columns].dropna()\n",
    "\n",
    "cty_a2_a1_to_ctr = cty_a2_a1_to_ctr.drop_duplicates().reset_index(drop=True)\n",
    "\n",
    "cty_a2_a1_to_ctr.to_csv('geo/str_maps/cty_a2_a1_to_ctr.csv',index=False)"
   ]
  },
  {
   "cell_type": "code",
   "execution_count": null,
   "metadata": {},
   "outputs": [],
   "source": []
  }
 ],
 "metadata": {
  "kernelspec": {
   "display_name": "Python 3",
   "language": "python",
   "name": "python3"
  },
  "language_info": {
   "codemirror_mode": {
    "name": "ipython",
    "version": 3
   },
   "file_extension": ".py",
   "mimetype": "text/x-python",
   "name": "python",
   "nbconvert_exporter": "python",
   "pygments_lexer": "ipython3",
   "version": "3.8.8"
  }
 },
 "nbformat": 4,
 "nbformat_minor": 4
}
